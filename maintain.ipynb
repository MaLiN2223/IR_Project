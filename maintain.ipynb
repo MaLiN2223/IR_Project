{
 "metadata": {
  "language_info": {
   "codemirror_mode": {
    "name": "ipython",
    "version": 3
   },
   "file_extension": ".py",
   "mimetype": "text/x-python",
   "name": "python",
   "nbconvert_exporter": "python",
   "pygments_lexer": "ipython3",
   "version": "3.8.8"
  },
  "orig_nbformat": 2,
  "kernelspec": {
   "name": "python388jvsc74a57bd0dfca7c33fcfd5cecd412da280ac895d2eb69bd6b32b770a801fbb54a4c2b53cd",
   "display_name": "Python 3.8.8 64-bit ('IR': conda)"
  }
 },
 "nbformat": 4,
 "nbformat_minor": 2,
 "cells": [
  {
   "cell_type": "code",
   "execution_count": 1,
   "metadata": {},
   "outputs": [
    {
     "output_type": "stream",
     "name": "stdout",
     "text": [
      "Config has 1 keys\nConfig has 1 keys\n"
     ]
    }
   ],
   "source": [
    "from src.storage.database import websites_db"
   ]
  },
  {
   "cell_type": "code",
   "execution_count": 4,
   "metadata": {},
   "outputs": [
    {
     "output_type": "execute_result",
     "data": {
      "text/plain": [
       "<pymongo.results.DeleteResult at 0x230645c9bc0>"
      ]
     },
     "metadata": {},
     "execution_count": 4
    }
   ],
   "source": [
    "websites_db.delete_many({'fixed_url':{\"$regex\":\".*/Wookieepedia:.*\"}})"
   ]
  },
  {
   "cell_type": "code",
   "execution_count": 2,
   "metadata": {
    "tags": []
   },
   "outputs": [
    {
     "output_type": "execute_result",
     "data": {
      "text/plain": [
       "dict_keys(['_id', 'fixed_url', 'normalized_url', 'real_base_url', 'all_links', 'html', 'page_text', 'title', 'processed_text', 'text_generation_version', 'xl_summary', 'processed_keywords', 'summary_keywords', 'text_keywords', 'processed_text_version', 'encoded_processed_text'])"
      ]
     },
     "metadata": {},
     "execution_count": 2
    }
   ],
   "source": [
    "x = websites_db.find_one({'_id':'2ab00c1518f6a9ce18d00a72208b8475'})\n",
    "x.keys()"
   ]
  },
  {
   "cell_type": "code",
   "execution_count": 3,
   "metadata": {},
   "outputs": [
    {
     "output_type": "execute_result",
     "data": {
      "text/plain": [
       "'https://starwars.fandom.com/wiki/Wookieepedia:WookieeProject_Novels/Articles_needing_creation'"
      ]
     },
     "metadata": {},
     "execution_count": 3
    }
   ],
   "source": [
    "x['fixed_url']"
   ]
  },
  {
   "cell_type": "code",
   "execution_count": 5,
   "metadata": {},
   "outputs": [],
   "source": [
    "z = _"
   ]
  },
  {
   "cell_type": "code",
   "execution_count": 6,
   "metadata": {},
   "outputs": [
    {
     "output_type": "execute_result",
     "data": {
      "text/plain": [
       "17194"
      ]
     },
     "metadata": {},
     "execution_count": 6
    }
   ],
   "source": [
    "z.deleted_count"
   ]
  },
  {
   "cell_type": "code",
   "execution_count": null,
   "metadata": {},
   "outputs": [],
   "source": []
  }
 ]
}