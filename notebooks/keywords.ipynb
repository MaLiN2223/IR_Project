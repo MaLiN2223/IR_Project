{
 "metadata": {
  "language_info": {
   "codemirror_mode": {
    "name": "ipython",
    "version": 3
   },
   "file_extension": ".py",
   "mimetype": "text/x-python",
   "name": "python",
   "nbconvert_exporter": "python",
   "pygments_lexer": "ipython3",
   "version": "3.8.8"
  },
  "orig_nbformat": 2,
  "kernelspec": {
   "name": "python388jvsc74a57bd06674975b0763041c36d120883108551306ec90644e30d13b2e50b08f07755c70",
   "display_name": "Python 3.8.8 64-bit ('IR': conda)"
  }
 },
 "nbformat": 4,
 "nbformat_minor": 2,
 "cells": [
  {
   "cell_type": "code",
   "execution_count": 21,
   "metadata": {},
   "outputs": [],
   "source": [
    "import sys \n",
    "sys.path.insert(0,\"../\")\n",
    "from src.storage.database import websites_db\n",
    "from gensim.models.fasttext import FastText\n",
    "from gensim.models import fasttext\n",
    "from nltk.corpus import stopwords \n",
    "from gensim.test.utils import datapath\n",
    "from keybert import KeyBERT\n",
    "from src.index.preprocessing_pipeline import Pipeline\n",
    "import numpy as np\n",
    "from sklearn.metrics.pairwise import cosine_similarity"
   ]
  },
  {
   "cell_type": "code",
   "execution_count": 8,
   "metadata": {},
   "outputs": [],
   "source": [
    "ft_model = fasttext.load_facebook_vectors('../data/wiki.en.bin')"
   ]
  },
  {
   "cell_type": "code",
   "execution_count": 9,
   "metadata": {},
   "outputs": [],
   "source": [
    "ft_model_mine = FastText.load('../data/version_1/ft_model.m')"
   ]
  },
  {
   "cell_type": "code",
   "execution_count": 12,
   "metadata": {},
   "outputs": [],
   "source": [
    "model = KeyBERT('xlm-r-distilroberta-base-paraphrase-v1')"
   ]
  },
  {
   "cell_type": "code",
   "execution_count": 13,
   "metadata": {},
   "outputs": [
    {
     "output_type": "execute_result",
     "data": {
      "text/plain": [
       "[('millennia', 0.3567),\n",
       " ('centuriesâ', 0.3457),\n",
       " ('centuries', 0.3395),\n",
       " ('liberty', 0.3362),\n",
       " ('millennium', 0.3356)]"
      ]
     },
     "metadata": {},
     "execution_count": 13
    }
   ],
   "source": [
    "with open('../republic.txt','r') as f:\n",
    "    doc = ' '.join(f.readlines())\n",
    "keywords = model.extract_keywords(doc)\n",
    "keywords"
   ]
  },
  {
   "cell_type": "code",
   "execution_count": 34,
   "metadata": {},
   "outputs": [],
   "source": [
    "bi_words = model.extract_keywords(doc, keyphrase_ngram_range=(1, 2))"
   ]
  },
  {
   "cell_type": "code",
   "execution_count": 43,
   "metadata": {},
   "outputs": [],
   "source": [
    "bi_words.append((\"test query\",1.0))\n",
    "bi_words.append((\"palpatine\",1.0))"
   ]
  },
  {
   "cell_type": "code",
   "execution_count": 44,
   "metadata": {},
   "outputs": [],
   "source": [
    "piped_doc = \" \".join(list(Pipeline(set(stopwords.words(\"english\"))).pipe(doc)))\n",
    "doc_enc_mine = [ft_model_mine.wv[vec] for vec in piped_doc.split()]\n",
    "doc_enc_mine = np.mean(doc_enc_mine,axis=0)\n",
    "\n",
    "doc_enc = [ft_model[vec] for vec in piped_doc.split()]\n",
    "doc_enc = np.mean(doc_enc,axis=0)"
   ]
  },
  {
   "cell_type": "code",
   "execution_count": 45,
   "metadata": {},
   "outputs": [
    {
     "output_type": "stream",
     "name": "stdout",
     "text": [
      "0.6696127 0.5621 republic galactic\n0.6404427 0.5195 republic galaxy\n0.6344273 0.4957 republic millennia\n0.6319883 0.487 centuries galactic\n0.56188 0.4868 civilizations galaxy\n0.37439156 1.0 test query\n0.37439156 1.0 test query\n0.57914734 1.0 palpatine\n"
     ]
    }
   ],
   "source": [
    "for words in bi_words:\n",
    "    score = words[1]\n",
    "    words = words[0]     \n",
    "    query = [ft_model[vec] for vec in words.split()]\n",
    "    query = np.mean(query,axis=0)\n",
    "    similarity = cosine_similarity(np.array([doc_enc, query]))[0][1]\n",
    "    print(similarity,score, words)\n"
   ]
  },
  {
   "cell_type": "code",
   "execution_count": 46,
   "metadata": {},
   "outputs": [
    {
     "output_type": "stream",
     "name": "stdout",
     "text": [
      "0.8631183 0.5621 republic galactic\n0.7601992 0.5195 republic galaxy\n0.8555117 0.4957 republic millennia\n0.93063307 0.487 centuries galactic\n0.84605175 0.4868 civilizations galaxy\n0.79870725 1.0 test query\n0.79870725 1.0 test query\n0.7370023 1.0 palpatine\n"
     ]
    }
   ],
   "source": [
    "for words in bi_words:\n",
    "    score = words[1]\n",
    "    words = words[0]     \n",
    "    query = [ft_model_mine.wv[vec] for vec in words.split()]\n",
    "    query = np.mean(query,axis=0)\n",
    "    similarity = cosine_similarity(np.array([doc_enc_mine, query]))[0][1]\n",
    "    print(similarity,score, words)\n"
   ]
  },
  {
   "cell_type": "code",
   "execution_count": 148,
   "metadata": {},
   "outputs": [],
   "source": [
    "\n",
    "input = \"galactic republic\".lower().split()\n",
    "input_2 = \"the empire\".lower().split()\n",
    "query = [ft_model.wv[vec] for vec in input]\n",
    "query = np.mean(query,axis=0)\n",
    "query_2 = [ft_model.wv[vec] for vec in input_2]\n",
    "query_2 = np.mean(query_2,axis=0)"
   ]
  },
  {
   "cell_type": "code",
   "execution_count": 156,
   "metadata": {},
   "outputs": [],
   "source": []
  },
  {
   "cell_type": "code",
   "execution_count": 157,
   "metadata": {},
   "outputs": [
    {
     "output_type": "stream",
     "name": "stdout",
     "text": [
      "pairwise sparse output:\n [1.0000004 0.8631183 0.8338314]\n\n"
     ]
    }
   ],
   "source": [
    "\n",
    "x = cosine_similarity(np.array([doc_enc, query, query_2]))\n",
    "# doc <-> query 84.75, query 2 -> 73\n",
    "# query <-> query 60\n",
    "print('pairwise sparse output:\\n {}\\n'.format(x[0]))"
   ]
  },
  {
   "cell_type": "code",
   "execution_count": 138,
   "metadata": {},
   "outputs": [
    {
     "output_type": "execute_result",
     "data": {
      "text/plain": [
       "[('galactic republic galactic republic time', 0.7296),\n",
       " ('republic common galactic republic', 0.7265),\n",
       " ('used republic common galactic republic', 0.7224),\n",
       " ('galactic republic galactic republic', 0.7211),\n",
       " ('republic galactic republic time', 0.7182)]"
      ]
     },
     "metadata": {},
     "execution_count": 138
    }
   ],
   "source": [
    " model.extract_keywords(piped_doc, keyphrase_ngram_range=(4, 5))"
   ]
  },
  {
   "cell_type": "code",
   "execution_count": 130,
   "metadata": {},
   "outputs": [
    {
     "output_type": "execute_result",
     "data": {
      "text/plain": [
       "'galactic republic 25053 bby–19 bby ruling government galaxy existed twentyfive thousand year reformation galactic empire 19 bby throughout existence state commonly known republic postrepublic era beyond remembered old republic also rarely known old galactic republic first galactic republic time term old order used describe republic common galactic republic representative democracy composed various star system sector member world throughout known galaxy central government consisted three branch legislative executive judicial first galactic senate body elected appointed representative main duty included mediating dispute issue ranging planetary galacticscale regulating trade route star system theory represented interest republic citizen office supreme chancellor senate executive counterpart supreme chancellor elected rank senate member leader senate overall representative republic chancellor also held title head state president judicial branch consisted supreme court lower regional court supreme court composed twelve justice one held leadership position chief justice throughout history dominant galactic power republic style strong centralized government rather union sovereign planet purpose collective security economic prosperity said complete history could fill thousand library last decade preceded rise emperor palpatine new order republic benevolent—though ineffectual—government tied layer bureaucracy hampered political corporate corruption galactic republic existed least 25034 year brought sith transformed galactic empire however first seven regime change replaced old republic next 157 year republic born ratification galactic constitution 25053 bby unification war time human duros reverseengineered forcebased technology infinite empire create first hyperdrive allowing coruscant become capital galactic republic 53 year later would remain way twentyfive thousand year founding member government largely human core world protected outside influence clandestine group known genoharadan organization wished see government flourish whose existence unknown galactic populace even jedi order shortly formation republic perlemian trade route mapped linking coruscant ossus bringing jedi knight republic key world route muunilinst source republic credit traded native muun controlled newly formed intergalactic banking clan next millennium corellian run mapped linking coruscant corellia beyond wedge defined two trade route became known slice since stretch hyperspace galacticwest coruscant anomalyridden impassable current republic technology government expanded eastward instead core world portion slice known arrowhead soon republic expanded colony though history often recall republic peaceful numerous galactic conflict hundredyear darkness old sith war vultar cataclysm mandalorian war jedi civil war new sith war clone war occurred throughout existence'"
      ]
     },
     "metadata": {},
     "execution_count": 130
    }
   ],
   "source": [
    "piped_doc"
   ]
  },
  {
   "cell_type": "code",
   "execution_count": null,
   "metadata": {},
   "outputs": [],
   "source": []
  }
 ]
}